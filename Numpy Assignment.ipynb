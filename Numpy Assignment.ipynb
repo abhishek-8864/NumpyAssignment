{
 "cells": [
  {
   "cell_type": "code",
   "execution_count": 41,
   "id": "64b29f6b-bc99-49ac-8cd3-0072d2c25e99",
   "metadata": {},
   "outputs": [],
   "source": [
    "import numpy as np"
   ]
  },
  {
   "cell_type": "code",
   "execution_count": 42,
   "id": "6247be6f-5c3a-4f0f-8527-c9893d1606ec",
   "metadata": {},
   "outputs": [
    {
     "name": "stdout",
     "output_type": "stream",
     "text": [
      "Array: [0 1 2 3 4 5]\n",
      "Data type: int32\n"
     ]
    }
   ],
   "source": [
    "#1.Create a numpy array arr of integers from 0 to 5 and print its datatype.\n",
    "arr = np.array([0, 1, 2, 3, 4, 5])\n",
    "print(\"Array:\", arr)\n",
    "print(\"Data type:\", arr.dtype)"
   ]
  },
  {
   "cell_type": "code",
   "execution_count": 43,
   "id": "52c8c04b-949c-45dc-a879-673dc180545b",
   "metadata": {},
   "outputs": [
    {
     "name": "stdout",
     "output_type": "stream",
     "text": [
      "The array is of type float64.\n"
     ]
    }
   ],
   "source": [
    "#2.Given a numpy array arr,check if its datatype is float64.\n",
    "arr = np.array([1.0, 2.0, 3.0])\n",
    "if arr.dtype == np.float64:\n",
    "    print(\"The array is of type float64.\")\n",
    "else:\n",
    "    print(\"The array is NOT of type float64.\")"
   ]
  },
  {
   "cell_type": "code",
   "execution_count": 44,
   "id": "c6428d11-47a6-4f63-b383-f05864d11ecb",
   "metadata": {},
   "outputs": [
    {
     "name": "stdout",
     "output_type": "stream",
     "text": [
      "Array: [1.+2.j 3.+4.j 5.+6.j]\n",
      "Data type: complex128\n"
     ]
    }
   ],
   "source": [
    "#3.Create a numpy array arr with a datatype of complex128 containing three complex numbers.\n",
    "arr = np.array([1+2j, 3+4j, 5+6j],dtype=np.complex128)\n",
    "print(\"Array:\", arr)\n",
    "print(\"Data type:\", arr.dtype)"
   ]
  },
  {
   "cell_type": "code",
   "execution_count": 45,
   "id": "404057eb-bb8d-4673-9c61-be1a7f5ed58f",
   "metadata": {},
   "outputs": [
    {
     "name": "stdout",
     "output_type": "stream",
     "text": [
      "Converted array: [1. 2. 3. 4. 5.]\n",
      "Data type: float32\n"
     ]
    }
   ],
   "source": [
    "#4.Convert an existing numpy array arr of integers to float32 datatype.\n",
    "arr = np.array([1, 2, 3, 4, 5])\n",
    "arr_float32 = arr.astype(np.float32)\n",
    "print(\"Converted array:\", arr_float32)\n",
    "print(\"Data type:\", arr_float32.dtype)"
   ]
  },
  {
   "cell_type": "code",
   "execution_count": 46,
   "id": "82675d56-c265-45f1-9fb2-ba89459fb6f6",
   "metadata": {},
   "outputs": [
    {
     "name": "stdout",
     "output_type": "stream",
     "text": [
      "Original array (float64): [1.12345679 2.98765432 3.14159265]\n",
      "Converted array (float32): [1.1234568 2.9876542 3.1415927]\n",
      "New data type: float32\n"
     ]
    }
   ],
   "source": [
    "#5.Given a numpy array arr with float64 datatype,convert it to float32 to reduce decimal precision.\n",
    "arr = np.array([1.123456789, 2.987654321, 3.1415926535], dtype=np.float64)\n",
    "arr_float32 = arr.astype(np.float32)\n",
    "print(\"Original array (float64):\", arr)\n",
    "print(\"Converted array (float32):\", arr_float32)\n",
    "print(\"New data type:\", arr_float32.dtype)"
   ]
  },
  {
   "cell_type": "code",
   "execution_count": 47,
   "id": "83e7fd33-4a81-4ba7-8f7d-9a5508e98ec8",
   "metadata": {},
   "outputs": [
    {
     "name": "stdout",
     "output_type": "stream",
     "text": [
      "Shape: (2, 3)\n",
      "Size: 6\n",
      "Data type: int32\n"
     ]
    }
   ],
   "source": [
    "#6.Write a function array_attributes that takes a numpy array as input and return its shape ,size,and datatype.\n",
    "def array_attributes(arr):\n",
    "    shape = arr.shape\n",
    "    size = arr.size\n",
    "    dtype = arr.dtype\n",
    "    return shape, size, dtype\n",
    "arr = np.array([[1, 2, 3], [4, 5, 6]])\n",
    "attributes = array_attributes(arr)\n",
    "print(\"Shape:\", attributes[0])\n",
    "print(\"Size:\", attributes[1])\n",
    "print(\"Data type:\", attributes[2])"
   ]
  },
  {
   "cell_type": "code",
   "execution_count": 48,
   "id": "8e1fa320-5b3a-4fb4-92ac-af9e1a716174",
   "metadata": {},
   "outputs": [
    {
     "name": "stdout",
     "output_type": "stream",
     "text": [
      "Dimensionality: 2\n"
     ]
    }
   ],
   "source": [
    "#7.Create a function array_dimension that returns the dimensionality of a numpy array.\n",
    "def array_dimension(arr):\n",
    "    return arr.ndim\n",
    "arr = np.array([[1, 2, 3],[4,5,6]])\n",
    "dim = array_dimension(arr)\n",
    "print(\"Dimensionality:\", dim)"
   ]
  },
  {
   "cell_type": "code",
   "execution_count": 49,
   "id": "c4e7e517-6fb7-49aa-916e-98b4ef1c0553",
   "metadata": {},
   "outputs": [
    {
     "name": "stdout",
     "output_type": "stream",
     "text": [
      "Shape: (2, 3)\n",
      "Strides: (12, 4)\n"
     ]
    }
   ],
   "source": [
    "#8.Design a function item_stride_relationship that returns the shape and strides of the given array.\n",
    "def item_stride_relationship(arr):\n",
    "    return arr.shape, arr.strides\n",
    "arr = np.array([[1, 2, 3], [4, 5, 6]])\n",
    "shape, strides = item_stride_relationship(arr)\n",
    "print(\"Shape:\", shape)\n",
    "print(\"Strides:\", strides)"
   ]
  },
  {
   "cell_type": "code",
   "execution_count": 50,
   "id": "37d8acf8-4b4e-4d9e-b681-14cb8733ce1e",
   "metadata": {},
   "outputs": [
    {
     "name": "stdout",
     "output_type": "stream",
     "text": [
      "Strides: (8, 4)\n"
     ]
    }
   ],
   "source": [
    "#9.Create a function array_strides that returns the strides of the given NumPy array.\n",
    "def array_strides(arr):\n",
    "    return arr.strides\n",
    "arr = np.array([[1, 2], [3, 4]])\n",
    "print(\"Strides:\", array_strides(arr))"
   ]
  },
  {
   "cell_type": "code",
   "execution_count": 51,
   "id": "9c667406-79ba-4f7d-891a-8c34741e03fb",
   "metadata": {},
   "outputs": [
    {
     "name": "stdout",
     "output_type": "stream",
     "text": [
      "Shape: (2, 2)\n",
      "Strides: (8, 4)\n"
     ]
    }
   ],
   "source": [
    "#10.Design a function shape_stride_relationship that returns the shape and strides of the given array. \n",
    "def shape_stride_relationship(arr):\n",
    "    return arr.shape, arr.strides\n",
    "arr = np.array([[1, 2], [3, 4]])\n",
    "shape, strides = shape_stride_relationship(arr)\n",
    "print(\"Shape:\", shape)\n",
    "print(\"Strides:\", strides)\n"
   ]
  },
  {
   "cell_type": "code",
   "execution_count": 52,
   "id": "a71511f9-45af-49bf-81a8-cb505e7c4976",
   "metadata": {},
   "outputs": [
    {
     "name": "stdout",
     "output_type": "stream",
     "text": [
      "Zeros array: [0. 0. 0. 0. 0.]\n"
     ]
    }
   ],
   "source": [
    "#11.Create a function create_zeros_array(n) to return a NumPy array of zeros with n elements.\n",
    "def create_zeros_array(n):\n",
    "    return np.zeros(n)\n",
    "print(\"Zeros array:\", create_zeros_array(5))"
   ]
  },
  {
   "cell_type": "code",
   "execution_count": 53,
   "id": "e139bb7c-6385-4ebc-90d7-54cd0554bee8",
   "metadata": {},
   "outputs": [
    {
     "name": "stdout",
     "output_type": "stream",
     "text": [
      "[[1. 1. 1.]\n",
      " [1. 1. 1.]]\n"
     ]
    }
   ],
   "source": [
    "#12.Write a function create_ones_matrix(rows, cols) to create a 2D array filled with ones.\n",
    "def com(rows, cols):\n",
    "    return np.ones((rows, cols))\n",
    "print(com(2, 3))"
   ]
  },
  {
   "cell_type": "code",
   "execution_count": 54,
   "id": "5a62c73e-bdbf-42db-ac15-778a34ff7e54",
   "metadata": {},
   "outputs": [
    {
     "name": "stdout",
     "output_type": "stream",
     "text": [
      "Range array: [0 2 4 6 8]\n"
     ]
    }
   ],
   "source": [
    "#13.Write a function generate_range_array(start, stop, step) to create a ranged NumPy array.\n",
    "def gna(start, stop, step):\n",
    "    return np.arange(start, stop, step)\n",
    "print(\"Range array:\", gna(0, 10, 2))"
   ]
  },
  {
   "cell_type": "code",
   "execution_count": 55,
   "id": "45f70d7c-d05b-4fff-be8c-2cac73272b3b",
   "metadata": {},
   "outputs": [
    {
     "name": "stdout",
     "output_type": "stream",
     "text": [
      "Linear space: [0.   0.25 0.5  0.75 1.  ]\n"
     ]
    }
   ],
   "source": [
    "#14.Design a function generate_linear_space(start, stop, num) for equally spaced values.\n",
    "def gls(start, stop, num):\n",
    "    return np.linspace(start, stop, num)\n",
    "print(\"Linear space:\", gls(0, 1, 5))"
   ]
  },
  {
   "cell_type": "code",
   "execution_count": 56,
   "id": "fbf446cb-f467-4cbd-a79e-70f2ac3eb212",
   "metadata": {},
   "outputs": [
    {
     "name": "stdout",
     "output_type": "stream",
     "text": [
      "Identity matrix: [[1. 0. 0. 0.]\n",
      " [0. 1. 0. 0.]\n",
      " [0. 0. 1. 0.]\n",
      " [0. 0. 0. 1.]]\n"
     ]
    }
   ],
   "source": [
    "#15.Create a function create_identity_matrix(n) using numpy.eye.\n",
    "def cim(n):\n",
    "    return np.eye(n)\n",
    "print(\"Identity matrix:\",cim(4))"
   ]
  },
  {
   "cell_type": "code",
   "execution_count": 57,
   "id": "af31e936-4fd0-45e6-95e3-ddd937823456",
   "metadata": {},
   "outputs": [
    {
     "name": "stdout",
     "output_type": "stream",
     "text": [
      "NumPy array: [1 2 3 4 5]\n"
     ]
    }
   ],
   "source": [
    "#16.Write a function that converts a Python list into a NumPy array. \n",
    "def list_to_numpy_array(lst):\n",
    "    return np.array(lst)\n",
    "my_list = [1, 2, 3, 4, 5]\n",
    "print(\"NumPy array:\", list_to_numpy_array(my_list))"
   ]
  },
  {
   "cell_type": "code",
   "execution_count": 58,
   "id": "31185cd8-183d-438d-8f0a-0f2f110b83b6",
   "metadata": {},
   "outputs": [
    {
     "name": "stdout",
     "output_type": "stream",
     "text": [
      "Original array: [10 20 30 40]\n",
      "View array: [10 20 30 40]\n",
      "Modified original array: [999  20  30  40]\n",
      "Modified view array: [999  20  30  40]\n"
     ]
    }
   ],
   "source": [
    "#17.Create a NumPy array and use numpy.view() to create a new view with the same data.\n",
    "def create_view(arr):\n",
    "    return arr.view()\n",
    "original_arr = np.array([10, 20, 30, 40])\n",
    "view_arr = create_view(original_arr)\n",
    "print(\"Original array:\", original_arr)\n",
    "print(\"View array:\", view_arr)\n",
    "view_arr[0] = 999\n",
    "print(\"Modified original array:\", original_arr)\n",
    "print(\"Modified view array:\", view_arr)\n"
   ]
  },
  {
   "cell_type": "code",
   "execution_count": 60,
   "id": "c64feb7f-380d-4c81-9e44-cc746176b7ce",
   "metadata": {},
   "outputs": [
    {
     "name": "stdout",
     "output_type": "stream",
     "text": [
      "Concatenate along axis 0:\n",
      " [[1 2]\n",
      " [3 4]\n",
      " [5 6]\n",
      " [7 8]]\n",
      "Concatenate along axis 1:\n",
      " [[1 2 5 6]\n",
      " [3 4 7 8]]\n"
     ]
    }
   ],
   "source": [
    "#18.Write a function  to concatenate two numpy arrays along a specified axis.\n",
    "def con_arr(arr1, arr2, axis=0):\n",
    "    return np.concatenate((arr1, arr2), axis=axis)\n",
    "a = np.array([[1, 2], [3, 4]])\n",
    "b = np.array([[5, 6], [7, 8]])\n",
    "print(\"Concatenate along axis 0:\\n\", con_arr(a, b, axis=0))\n",
    "print(\"Concatenate along axis 1:\\n\", con_arr(a, b, axis=1))"
   ]
  },
  {
   "cell_type": "code",
   "execution_count": 61,
   "id": "d1c04f5b-0655-407c-a4f5-ef14b86962fd",
   "metadata": {},
   "outputs": [
    {
     "name": "stdout",
     "output_type": "stream",
     "text": [
      "Concatenated array:\n",
      " [[ 1  2  3  7  8]\n",
      " [ 4  5  6  9 10]]\n",
      "Shape: (2, 5)\n"
     ]
    }
   ],
   "source": [
    "#19.Concatenate two arrays with different shapes horizontally using numpy.concatenate.\n",
    "import numpy as np\n",
    "arr1 = np.array([[1, 2, 3],\n",
    "                 [4, 5, 6]])\n",
    "arr2 = np.array([[7, 8],\n",
    "                 [9, 10]])\n",
    "result = np.concatenate((arr1, arr2), axis=1)\n",
    "print(\"Concatenated array:\\n\", result)\n",
    "print(\"Shape:\", result.shape)"
   ]
  },
  {
   "cell_type": "code",
   "execution_count": 63,
   "id": "73ebca6f-c475-4de9-b698-6f048eb60486",
   "metadata": {},
   "outputs": [
    {
     "name": "stdout",
     "output_type": "stream",
     "text": [
      "Vertically stacked array:\n",
      " [[1 2 3]\n",
      " [4 5 6]\n",
      " [7 8 9]]\n"
     ]
    }
   ],
   "source": [
    "#20.Vertically stack multiple arrays from a list using numpy.vstack.\n",
    "def vertical_stack(arr_list):\n",
    "    return np.vstack(arr_list)\n",
    "arr1 = np.array([1, 2, 3])\n",
    "arr2 = np.array([4, 5, 6])\n",
    "arr3 = np.array([7, 8, 9])\n",
    "arrays = [arr1, arr2, arr3]\n",
    "result = vertical_stack(arrays)\n",
    "print(\"Vertically stacked array:\\n\", result)"
   ]
  },
  {
   "cell_type": "code",
   "execution_count": 64,
   "id": "31246661-e680-49fc-a0f6-9298a21b9ecd",
   "metadata": {},
   "outputs": [
    {
     "name": "stdout",
     "output_type": "stream",
     "text": [
      "[3 4 5 6 7 8]\n"
     ]
    }
   ],
   "source": [
    "#21.write a function to generate an array of integers within a specified range(inclusive with a sharp).\n",
    "def generate_inclusive_range(start, stop):\n",
    "    return np.arange(start, stop + 1)\n",
    "arr = generate_inclusive_range(3, 8)\n",
    "print(arr)"
   ]
  },
  {
   "cell_type": "code",
   "execution_count": 65,
   "id": "433bed75-7e7b-453e-99ac-9ba0f0314216",
   "metadata": {},
   "outputs": [
    {
     "name": "stdout",
     "output_type": "stream",
     "text": [
      "Equally spaced values: [0.         0.11111111 0.22222222 0.33333333 0.44444444 0.55555556\n",
      " 0.66666667 0.77777778 0.88888889 1.        ]\n"
     ]
    }
   ],
   "source": [
    "#22.Generate 10 equally spaced values between 0 and 1 using numpy.1\n",
    "arr = np.linspace(0, 1, 10)\n",
    "print(\"Equally spaced values:\", arr)"
   ]
  },
  {
   "cell_type": "code",
   "execution_count": 66,
   "id": "8d0eb3ea-e73b-4231-a55c-d758e3b65414",
   "metadata": {},
   "outputs": [
    {
     "name": "stdout",
     "output_type": "stream",
     "text": [
      "Logarithmically spaced values: [   1.            5.62341325   31.6227766   177.827941   1000.        ]\n"
     ]
    }
   ],
   "source": [
    "#23.Create 5 logarithmically spaced values between 1 to 1000.\n",
    "arr = np.logspace(start=0, stop=3, num=5)\n",
    "print(\"Logarithmically spaced values:\", arr)"
   ]
  },
  {
   "cell_type": "code",
   "execution_count": 74,
   "id": "a12e2eb8-40af-4f9a-8148-70be5e349999",
   "metadata": {},
   "outputs": [
    {
     "name": "stdout",
     "output_type": "stream",
     "text": [
      "Modified array:\n",
      " [[ 5  0  7]\n",
      " [-1  2 -6]\n",
      " [ 4  0  9]]\n"
     ]
    }
   ],
   "source": [
    "#24.Write a function to replace all negative values in a specific column with zeros using NumPy.\n",
    "def replace_negatives_in_column(arr, col_index):\n",
    "    arr = arr.copy() \n",
    "    arr[arr[:, col_index] < 0, col_index] = 0\n",
    "    return arr\n",
    "data = np.array([[ 5, -3,  7],\n",
    "                 [-1,  2, -6],\n",
    "                 [ 4, -8,  9]])\n",
    "result = replace_negatives_in_column(data, 1)\n",
    "print(\"Modified array:\\n\", result)"
   ]
  },
  {
   "cell_type": "code",
   "execution_count": 69,
   "id": "794101d0-40cd-445d-a53a-4a0656189f8d",
   "metadata": {},
   "outputs": [
    {
     "name": "stdout",
     "output_type": "stream",
     "text": [
      "3rd element: 30\n"
     ]
    }
   ],
   "source": [
    "#26.Access the 3rd element from the given NumPy array.\n",
    "arr = np.array([10, 20, 30, 40, 50])\n",
    "third_element = arr[2]\n",
    "print(\"3rd element:\", third_element)"
   ]
  },
  {
   "cell_type": "code",
   "execution_count": 68,
   "id": "f552210d-c448-42be-b60b-1590f06e4f7c",
   "metadata": {},
   "outputs": [
    {
     "name": "stdout",
     "output_type": "stream",
     "text": [
      "Element at (1, 2): 6\n"
     ]
    }
   ],
   "source": [
    "#27.Retrieve the element at index (1, 2) from a 2D array.\n",
    "arr_2d = np.array([[1, 2, 3],\n",
    "                   [4, 5, 6],\n",
    "                   [7, 8, 9]])\n",
    "element = arr_2d[1, 2]\n",
    "print(\"Element at (1, 2):\", element)"
   ]
  },
  {
   "cell_type": "code",
   "execution_count": 70,
   "id": "72cb44c7-7c39-4386-964f-98d9e63b128d",
   "metadata": {},
   "outputs": [
    {
     "name": "stdout",
     "output_type": "stream",
     "text": [
      "Elements greater than 5: [6 8 9]\n"
     ]
    }
   ],
   "source": [
    "#28.Extract elements greater than 5 using boolean indexing.\n",
    "arr = np.array([1, 6, 3, 8, 5, 9])\n",
    "greater_than_5 = arr[arr > 5]\n",
    "print(\"Elements greater than 5:\", greater_than_5)"
   ]
  },
  {
   "cell_type": "code",
   "execution_count": 71,
   "id": "59f28f38-90c8-4bcc-a28f-a144ecfae0da",
   "metadata": {},
   "outputs": [
    {
     "name": "stdout",
     "output_type": "stream",
     "text": [
      "Sliced elements (index 2 to 5): [30 40 50 60]\n"
     ]
    }
   ],
   "source": [
    "#29.Slice elements from index 2 to 5 (inclusive) from a NumPy array.\n",
    "arr = np.array([10, 20, 30, 40, 50, 60, 70])\n",
    "sliced = arr[2:6]\n",
    "print(\"Sliced elements (index 2 to 5):\", sliced)"
   ]
  },
  {
   "cell_type": "code",
   "execution_count": 72,
   "id": "dbb5fa98-6772-494c-b9cc-c9e858d55e07",
   "metadata": {},
   "outputs": [
    {
     "name": "stdout",
     "output_type": "stream",
     "text": [
      "Sub-array:\n",
      " [[2 3]\n",
      " [5 6]]\n"
     ]
    }
   ],
   "source": [
    "#30.Slice the sub array [[2,3],[5,6]] from a 2D array.\n",
    "arr = np.array([[1, 2, 3],\n",
    "                [4, 5, 6],\n",
    "                [7, 8, 9]])\n",
    "sub_array = arr[0:2, 1:3]\n",
    "print(\"Sub-array:\\n\", sub_array)"
   ]
  },
  {
   "cell_type": "code",
   "execution_count": 75,
   "id": "f9264010-04a1-48e5-be18-4e3cfc19f0cf",
   "metadata": {},
   "outputs": [
    {
     "name": "stdout",
     "output_type": "stream",
     "text": [
      "Result of broadcasting addition:\n",
      " [[101 202 303]\n",
      " [104 205 306]\n",
      " [107 208 309]\n",
      " [110 211 312]]\n"
     ]
    }
   ],
   "source": [
    "arr = np.array([[1, 2, 3],\n",
    "                [4, 5, 6],\n",
    "                [7, 8, 9],\n",
    "                [10, 11, 12]])\n",
    "to_add = np.array([[100, 200, 300]])\n",
    "result = arr + to_add\n",
    "print(\"Result of broadcasting addition:\\n\", result)"
   ]
  },
  {
   "cell_type": "code",
   "execution_count": 76,
   "id": "9d003c18-51e6-4b8c-ad03-5a3139cef8c2",
   "metadata": {},
   "outputs": [
    {
     "name": "stdout",
     "output_type": "stream",
     "text": [
      "Result of adding (3,1) and (1,3):\n",
      " [[11 21 31]\n",
      " [12 22 32]\n",
      " [13 23 33]]\n"
     ]
    }
   ],
   "source": [
    "a = np.array([[1], [2], [3]])\n",
    "b = np.array([[10, 20, 30]])\n",
    "result = a + b\n",
    "print(\"Result of adding (3,1) and (1,3):\\n\", result)"
   ]
  },
  {
   "cell_type": "code",
   "execution_count": 77,
   "id": "069c7c48-95f2-4d46-b478-cd4a90a6124f",
   "metadata": {},
   "outputs": [
    {
     "name": "stdout",
     "output_type": "stream",
     "text": [
      "Shapes are incompatible for element-wise multiplication: (2, 3) (2, 2)\n"
     ]
    }
   ],
   "source": [
    "a = np.random.rand(2, 3)\n",
    "b = np.random.rand(2, 2)\n",
    "if a.shape == b.shape:\n",
    "    result = a * b\n",
    "else:\n",
    "    print(\"Shapes are incompatible for element-wise multiplication:\", a.shape, b.shape)"
   ]
  },
  {
   "cell_type": "code",
   "execution_count": 78,
   "id": "0cb713e4-7753-4003-9abd-942eb2ae79df",
   "metadata": {},
   "outputs": [
    {
     "name": "stdout",
     "output_type": "stream",
     "text": [
      "Column-wise mean: [4. 5. 6.]\n"
     ]
    }
   ],
   "source": [
    "arr = np.array([[1, 2, 3],\n",
    "                [4, 5, 6],\n",
    "                [7, 8, 9]])\n",
    "col_mean = np.mean(arr, axis=0)\n",
    "print(\"Column-wise mean:\", col_mean)"
   ]
  },
  {
   "cell_type": "code",
   "execution_count": 79,
   "id": "0fc0870b-b6a6-46ab-b8da-e534869ffef8",
   "metadata": {},
   "outputs": [
    {
     "name": "stdout",
     "output_type": "stream",
     "text": [
      "Row-wise maximums: [3 6 9]\n"
     ]
    }
   ],
   "source": [
    "row_max = np.max(arr, axis=1)\n",
    "print(\"Row-wise maximums:\", row_max)"
   ]
  },
  {
   "cell_type": "code",
   "execution_count": 80,
   "id": "d105c616-6598-4492-b3c1-4074b258656e",
   "metadata": {},
   "outputs": [
    {
     "name": "stdout",
     "output_type": "stream",
     "text": [
      "Indices of max in each column: [2 2 2]\n"
     ]
    }
   ],
   "source": [
    "col_max_indices = np.argmax(arr, axis=0)\n",
    "print(\"Indices of max in each column:\", col_max_indices)"
   ]
  },
  {
   "cell_type": "code",
   "execution_count": 81,
   "id": "e49a5723-9b76-4ab0-becf-a722b8f3d53b",
   "metadata": {},
   "outputs": [
    {
     "name": "stdout",
     "output_type": "stream",
     "text": [
      "Moving sum along rows:\n",
      " [[  6   9  12]\n",
      " [ 60  90 120]]\n"
     ]
    }
   ],
   "source": [
    "def moving_sum_1d(arr, window_size):\n",
    "    return np.convolve(arr, np.ones(window_size, dtype=int), mode='valid')\n",
    "def moving_sum_rows(arr, window_size):\n",
    "    return np.array([moving_sum_1d(row, window_size) for row in arr])\n",
    "arr = np.array([[1, 2, 3, 4, 5],\n",
    "                [10, 20, 30, 40, 50]])\n",
    "result = moving_sum_rows(arr, window_size=3)\n",
    "print(\"Moving sum along rows:\\n\", result)"
   ]
  },
  {
   "cell_type": "code",
   "execution_count": 82,
   "id": "79ad5f3d-703d-407a-a02f-3e2c9ac938c4",
   "metadata": {},
   "outputs": [
    {
     "name": "stdout",
     "output_type": "stream",
     "text": [
      "All elements even in each column: [ True  True  True]\n"
     ]
    }
   ],
   "source": [
    "arr = np.array([[2, 4, 6],\n",
    "                [8, 10, 12],\n",
    "                [14, 16, 18]])\n",
    "are_all_even = np.all(arr % 2 == 0, axis=0)\n",
    "print(\"All elements even in each column:\", are_all_even)"
   ]
  },
  {
   "cell_type": "code",
   "execution_count": 83,
   "id": "2a6655b7-8c91-40cd-8c87-5925da9c09e0",
   "metadata": {},
   "outputs": [
    {
     "name": "stdout",
     "output_type": "stream",
     "text": [
      "Occurrences of 'pie': [1 1 0 0]\n"
     ]
    }
   ],
   "source": [
    "arr = np.array([\"apple pie\", \"banana pie\", \"cherry tart\", \"apple tart\"])\n",
    "count = np.char.count(arr, \"pie\")\n",
    "print(\"Occurrences of 'pie':\", count)"
   ]
  },
  {
   "cell_type": "code",
   "execution_count": 84,
   "id": "6b9b54da-a463-4e02-82bd-23e4421c7d23",
   "metadata": {},
   "outputs": [
    {
     "name": "stdout",
     "output_type": "stream",
     "text": [
      "Uppercase characters: ['H' 'WORLD' 'NP' 'ABC']\n"
     ]
    }
   ],
   "source": [
    "arr = np.array([\"Hello\", \"WORLD\", \"NumPy\", \"123ABC\"])\n",
    "uppercase = np.array([''.join([c for c in s if c.isupper()]) for s in arr])\n",
    "print(\"Uppercase characters:\", uppercase)"
   ]
  },
  {
   "cell_type": "code",
   "execution_count": 85,
   "id": "531f921a-e4ea-4842-86c7-d2cbbbbfead3",
   "metadata": {},
   "outputs": [
    {
     "name": "stdout",
     "output_type": "stream",
     "text": [
      "Replaced strings: ['hello universe' 'python universe' 'universe of data']\n"
     ]
    }
   ],
   "source": [
    "arr = np.array([\"hello world\", \"python world\", \"world of data\"])\n",
    "replaced = np.char.replace(arr, \"world\", \"universe\")\n",
    "print(\"Replaced strings:\", replaced)"
   ]
  },
  {
   "cell_type": "code",
   "execution_count": 86,
   "id": "d20b1033-f361-4a35-ab39-80ab19006523",
   "metadata": {},
   "outputs": [
    {
     "name": "stdout",
     "output_type": "stream",
     "text": [
      "Element-wise concatenation: ['goodbye' 'datascience' 'NumPy']\n"
     ]
    }
   ],
   "source": [
    "arr1 = np.array([\"good\", \"data\", \"Num\"])\n",
    "arr2 = np.array([\"bye\", \"science\", \"Py\"])\n",
    "concatenated = np.char.add(arr1, arr2)\n",
    "print(\"Element-wise concatenation:\", concatenated)"
   ]
  },
  {
   "cell_type": "code",
   "execution_count": 87,
   "id": "b42c7b4b-d44b-41fd-9537-a6a22631d623",
   "metadata": {},
   "outputs": [
    {
     "name": "stdout",
     "output_type": "stream",
     "text": [
      "Length of the longest string: 6\n"
     ]
    }
   ],
   "source": [
    "arr = np.array([\"apple\", \"banana\", \"cherry\", \"date\"])\n",
    "lengths = np.char.str_len(arr)\n",
    "max_length = lengths.max()\n",
    "print(\"Length of the longest string:\", max_length)"
   ]
  },
  {
   "cell_type": "code",
   "execution_count": 88,
   "id": "f1962705-55d0-4b91-afb3-91e0caec67eb",
   "metadata": {},
   "outputs": [
    {
     "name": "stdout",
     "output_type": "stream",
     "text": [
      "Mean: 519.08\n",
      "Median: 489.0\n",
      "Variance: 74834.35359999999\n",
      "Standard Deviation: 273.55868401496593\n"
     ]
    }
   ],
   "source": [
    "arr = np.random.randint(1, 1001, size=100)\n",
    "mean = np.mean(arr)\n",
    "median = np.median(arr)\n",
    "variance = np.var(arr)\n",
    "std_dev = np.std(arr)\n",
    "print(f\"Mean: {mean}\")\n",
    "print(f\"Median: {median}\")\n",
    "print(f\"Variance: {variance}\")\n",
    "print(f\"Standard Deviation: {std_dev}\")"
   ]
  },
  {
   "cell_type": "code",
   "execution_count": 89,
   "id": "51887c80-f060-4b67-97a8-6f4c82fb504e",
   "metadata": {},
   "outputs": [
    {
     "name": "stdout",
     "output_type": "stream",
     "text": [
      "25th Percentile: 21.25\n",
      "75th Percentile: 75.5\n"
     ]
    }
   ],
   "source": [
    "arr = np.random.randint(1, 101, size=50)\n",
    "percentile_25 = np.percentile(arr, 25)\n",
    "percentile_75 = np.percentile(arr, 75)\n",
    "print(f\"25th Percentile: {percentile_25}\")\n",
    "print(f\"75th Percentile: {percentile_75}\")"
   ]
  },
  {
   "cell_type": "code",
   "execution_count": 90,
   "id": "2a62d0e4-23eb-4ee3-868c-d086236c2315",
   "metadata": {},
   "outputs": [
    {
     "name": "stdout",
     "output_type": "stream",
     "text": [
      "Correlation coefficient: 0.022362338249466443\n"
     ]
    }
   ],
   "source": [
    "x = np.random.rand(50)\n",
    "y = np.random.rand(50)\n",
    "corr_matrix = np.corrcoef(x, y)\n",
    "corr_coef = corr_matrix[0, 1]\n",
    "print(f\"Correlation coefficient: {corr_coef}\")"
   ]
  },
  {
   "cell_type": "code",
   "execution_count": 91,
   "id": "dfe2e4d9-aea3-4404-b103-237074bcf9e6",
   "metadata": {},
   "outputs": [
    {
     "name": "stdout",
     "output_type": "stream",
     "text": [
      "Matrix multiplication result:\n",
      " [[19 22]\n",
      " [43 50]]\n"
     ]
    }
   ],
   "source": [
    "a = np.array([[1, 2], [3, 4]])\n",
    "b = np.array([[5, 6], [7, 8]])\n",
    "result = np.dot(a, b)\n",
    "print(\"Matrix multiplication result:\\n\", result)"
   ]
  },
  {
   "cell_type": "code",
   "execution_count": 92,
   "id": "175447f1-c3d3-471a-a21b-ff0def44a555",
   "metadata": {},
   "outputs": [
    {
     "name": "stdout",
     "output_type": "stream",
     "text": [
      "10th, 50th, 90th percentiles: [ 5.  41.  81.3]\n",
      "Quartiles (25th, 50th, 75th): [18.5  41.   71.75]\n"
     ]
    }
   ],
   "source": [
    "arr = np.random.randint(1, 101, size=50)\n",
    "percentiles = np.percentile(arr, [10, 50, 90])\n",
    "quartiles = np.percentile(arr, [25, 50, 75])\n",
    "print(f\"10th, 50th, 90th percentiles: {percentiles}\")\n",
    "print(f\"Quartiles (25th, 50th, 75th): {quartiles}\")"
   ]
  },
  {
   "cell_type": "code",
   "execution_count": 95,
   "id": "2342dfff-e903-4a26-a45e-a00a3e4da175",
   "metadata": {},
   "outputs": [
    {
     "name": "stdout",
     "output_type": "stream",
     "text": [
      "Index of 25: 15\n"
     ]
    }
   ],
   "source": [
    "element = 25\n",
    "indices = np.where(arr == element)[0]\n",
    "if indices.size > 0:\n",
    "    index = indices[0]\n",
    "else:\n",
    "    index = -1  # Not found\n",
    "print(f\"Index of {element}: {index}\")"
   ]
  },
  {
   "cell_type": "code",
   "execution_count": 96,
   "id": "326a1ad1-5948-459b-8734-956459a6136b",
   "metadata": {},
   "outputs": [
    {
     "name": "stdout",
     "output_type": "stream",
     "text": [
      "Sorted array: [ 1  2  3  4  5  5  5  6  7  9 11 15 18 20 25 26 27 28 30 33 34 34 35 35\n",
      " 40 42 42 44 45 45 46 49 51 54 54 64 65 74 74 75 75 75 76 77 81 84 87 91\n",
      " 95 99]\n"
     ]
    }
   ],
   "source": [
    "sorted_arr = np.sort(arr)\n",
    "print(\"Sorted array:\", sorted_arr)"
   ]
  },
  {
   "cell_type": "code",
   "execution_count": 97,
   "id": "da52ad82-3c95-45df-9036-6aef97a286e1",
   "metadata": {},
   "outputs": [
    {
     "name": "stdout",
     "output_type": "stream",
     "text": [
      "Elements greater than 20: [34 35 46 75 28 54 30 45 44 75 33 54 91 25 26 64 42 34 27 74 95 84 75 81\n",
      " 74 45 51 42 40 35 49 99 77 87 65 76]\n"
     ]
    }
   ],
   "source": [
    "greater_than_20 = arr[arr > 20]\n",
    "print(\"Elements greater than 20:\", greater_than_20)"
   ]
  },
  {
   "cell_type": "code",
   "execution_count": 98,
   "id": "0b47851b-66e8-4202-b3d5-ce8986cd5644",
   "metadata": {},
   "outputs": [
    {
     "name": "stdout",
     "output_type": "stream",
     "text": [
      "Elements divisible by 3: [75 54 30 45 75 33 54 42 27  6 15 84 75 81 45  9 51 42 18  3 99 87]\n"
     ]
    }
   ],
   "source": [
    "divisible_by_3 = arr[arr % 3 == 0]\n",
    "print(\"Elements divisible by 3:\", divisible_by_3)"
   ]
  },
  {
   "cell_type": "code",
   "execution_count": 99,
   "id": "76c57931-985e-4457-9090-c7ea95ab7363",
   "metadata": {},
   "outputs": [
    {
     "name": "stdout",
     "output_type": "stream",
     "text": [
      "Elements between 20 and 40: [20 34 35 28 30 33 25 26 34 27 40 35]\n"
     ]
    }
   ],
   "source": [
    "between_20_and_40 = arr[(arr >= 20) & (arr <= 40)]\n",
    "print(\"Elements between 20 and 40:\", between_20_and_40)"
   ]
  },
  {
   "cell_type": "code",
   "execution_count": 100,
   "id": "cd022b9d-68ff-40ae-a20b-a8ae669fcfa7",
   "metadata": {},
   "outputs": [
    {
     "name": "stdout",
     "output_type": "stream",
     "text": [
      "Original byte order: =\n"
     ]
    }
   ],
   "source": [
    "byte_order = arr.dtype.byteorder\n",
    "print(f\"Original byte order: {byte_order}\")"
   ]
  },
  {
   "cell_type": "code",
   "execution_count": 101,
   "id": "b7948239-0659-4a60-981f-01b98e6b6d20",
   "metadata": {},
   "outputs": [
    {
     "name": "stdout",
     "output_type": "stream",
     "text": [
      "Array after byte swapping: [ 335544320  570425344  587202560   83886080  771751936 1258291200\n",
      "  469762048  905969664  503316480  754974720  738197504 1258291200\n",
      "  553648128  905969664 1526726656  419430400  184549376  436207616\n",
      " 1073741824  704643072  570425344  452984832  100663296 1241513984\n",
      "  251658240 1593835520 1409286144   67108864 1258291200   16777216\n",
      " 1358954496   33554432 1241513984  754974720  150994944  855638016\n",
      "  704643072  671088640  587202560  822083584  301989888   83886080\n",
      "  117440512   83886080   50331648 1660944384 1291845632 1459617792\n",
      " 1090519040 1275068416]\n",
      "Byte order after byteswap: =\n"
     ]
    }
   ],
   "source": [
    "arr.byteswap(inplace=True)\n",
    "print(\"Array after byte swapping:\", arr)\n",
    "print(f\"Byte order after byteswap: {arr.dtype.byteorder}\")"
   ]
  },
  {
   "cell_type": "code",
   "execution_count": null,
   "id": "9306eb9b-1d92-4eae-aae3-9b0b2045748a",
   "metadata": {},
   "outputs": [],
   "source": []
  }
 ],
 "metadata": {
  "kernelspec": {
   "display_name": "Python [conda env:base] *",
   "language": "python",
   "name": "conda-base-py"
  },
  "language_info": {
   "codemirror_mode": {
    "name": "ipython",
    "version": 3
   },
   "file_extension": ".py",
   "mimetype": "text/x-python",
   "name": "python",
   "nbconvert_exporter": "python",
   "pygments_lexer": "ipython3",
   "version": "3.12.7"
  }
 },
 "nbformat": 4,
 "nbformat_minor": 5
}
